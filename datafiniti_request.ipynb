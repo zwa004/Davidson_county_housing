{
 "cells": [
  {
   "cell_type": "code",
   "execution_count": 6,
   "metadata": {},
   "outputs": [],
   "source": [
    "# Import libraries\n",
    "import requests\n",
    "import urllib.parse\n",
    "import json\n",
    "from config import API_token\n"
   ]
  },
  {
   "cell_type": "code",
   "execution_count": 10,
   "metadata": {},
   "outputs": [
    {
     "name": "stdout",
     "output_type": "stream",
     "text": [
      "b'{\"num_found\":122836542,\"total_cost\":1,\"records\":[{\"address\":\"13012 65th Ave SE\",\"city\":\"Snohomish\",\"country\":\"US\",\"dateAdded\":\"2019-11-25T13:18:15Z\",\"dateUpdated\":\"2022-04-30T15:55:20Z\",\"descriptions\":[{\"dateSeen\":\"2019-11-25T13:18:00.000Z\",\"value\":\"13012 65th Ave SE is a house in Snohomish, WA 98296. This 2,122 square foot house sits on a 7,405 square foot lot and features 4 bedrooms and 3 bathrooms. This property was built in 1999. Based on Redfin\\'s Snohomish data, we estimate the home\\'s value is $553,774. Comparable nearby homes include 13022 66th Ave SE, 6726 126th Pl SE, and 12618 68th Ave SE. According to Redfin\\'s Rental Estimate, we expect that this home would rent for between $2,733 and $3,278. Nearby schools include Seattle Hill Elementary School, Totem Falls and Silver Firs Elementary School. The closest grocery stores are Safeway and Whistle Stop Grocery & Deli. Nearby coffee shops include Starbucks and Starbucks. Nearby restaurants include Applebee\\'s, Papa Murphy\\'s Take \\'n\\' Bake and Subway. This address can also be written as 13012 65th Avenue Southeast, Snohomish, Washington 98296.\"}],\"features\":[{\"value\":[\"2019: $5,992\"],\"key\":\"Tax Record\"},{\"value\":[\"This area is car dependent \\xe2\\x80\\x94 almost all errands require a car. There is a minimal amount of infrastructure for biking.\"],\"key\":\"Postal Code (98296) Transport Description\"},{\"value\":[\"Walking Score: 10/100 - Car-Dependent\",\"Transit Score: 9/100 - Somewhat Bikeable\"],\"key\":\"Postal Code (98296) Transport Scores\"},{\"key\":\"Property Information\",\"value\":[\"Subdivision Name: SNOHOMISH CASCADE SECTOR 3\",\"Stories Type: 2\",\"Living Sq. Ft: 2,122\",\"Building Sq. Ft: 2,773\",\"# of Stories: 2\",\"Legal Description: SNOHOMISH CASCADE SECTOR 3 PHASE 2 - BLK 000 D-00 LOT 154\",\"Ground Floor Sq. Ft: 1,212\"]},{\"value\":[\"6405 152nd St SE, Snohomish, WA 98296\",\"6504 145th St SE, Snohomish, WA 98296\",\"5527 126th St SE, Snohomish, WA 98296\"],\"key\":\"Nearby Recently Sold Homes\"},{\"key\":\"Price/Sq.Ft.\",\"value\":[\"$513\",\"$430\"]},{\"key\":\"Exterior Information\",\"value\":[\"Building Construction Quality: Above Average\",\"Construction Type: Wood\",\"Exterior Wall: Lap Siding\",\"Phyiscal Condition: Good\",\"Foundation Type: Concrete\",\"Roof Shape Type: Gable\",\"Physical Condition: Good\",\"Building Type: Single Family\"]},{\"key\":\"Assessor Information\",\"value\":[\"Assessment Year: 2021\",\"Assessment Year: 2018\"]},{\"value\":[\"$553,774\"],\"key\":\"Redfin Estimate (Price)\"},{\"value\":[\"Avg. # Offers: 1\",\"Avg. Down Payment: 19.6%\",\"Median Sale / List: 99.7%\",\"Median List Price: $675K\",\"# Sold Homes: 40\",\"Median $ / Sq. Ft.: $279\"],\"key\":\"Postal Code (98296) Real Estate Sales (Last 30 Days)\"},{\"key\":\"Heating & Cooling\",\"value\":[\"Heating Type: Forced Air Gas\"]},{\"value\":[\"6720 126th St SE, Snohomish, WA 98296\",\"12801 58th Ave SE, Snohomish, WA 98296\",\"5630 150th St SE, Everett, WA 98208\",\"4610 119th Pl SE, Everett, WA 98208\",\"13609 46th Ave SE, Snohomish, WA 98296\",\"4926 133rd Pl SE, Snohomish, WA 98296\",\"13405 54th Ave SE, Everett, WA 98208\",\"5727 123rd Pl SE, Snohomish, WA 98296\",\"5206 133rd St SE, Everett, WA 98208\"],\"key\":\"Nearby Similar Homes\"},{\"key\":\"Fireplace Information\",\"value\":[\"Has Fireplace\"]},{\"value\":[\"Land: $210,000\",\"Additions: $278,900\",\"Total: $488,900\"],\"key\":\"Taxable Value\"},{\"key\":\"Basement Information\",\"value\":[\"Basement Type: Crawl-Space\"]},{\"key\":\"Lot Information\",\"value\":[\"School Tax District: SNOHOMISH\",\"Municipality Name: SNOHOMISH\",\"# of Buildings: 1\",\"Land Sq. Ft: 7,405\",\"Legal Lot Number: 154\",\"Zoning Code: PRD9600\",\"Land Use Code: Sfr\",\"County Use Description: SINGLE FAM RES\",\"Acres: 0.17\"]},{\"key\":\"APN\",\"value\":[\"00877200015400\"]}],\"floorSizeValue\":2122,\"floorSizeUnit\":\"sq ft\",\"geoLocation\":\"POINT (-122.145361 47.879269)\",\"latitude\":\"47.879269\",\"longitude\":\"-122.145361\",\"lotSizeValue\":7405,\"lotSizeUnit\":\"sq ft\",\"mostRecentStatus\":\"Off Market\",\"mostRecentStatusDate\":\"2022-04-30T00:00:00.000Z\",\"mostRecentStatusFirstDateSeen\":\"2022-04-28T00:00:00.000Z\",\"mlsNumber\":\"1896406\",\"neighborhoods\":[\"Washington\"],\"numBathroom\":3,\"numBedroom\":4,\"numFloor\":2,\"parking\":[\"Parking Type: Attached Garage\",\"Garage/Parking Sq. Ft: 651\"],\"postalCode\":\"98296\",\"propertyTaxes\":[{\"amount\":5992,\"currency\":\"USD\",\"dateSeen\":[\"2019-11-25T13:18:00.000Z\"]}],\"propertyType\":\"Single Family Dwelling\",\"province\":\"WA\",\"statuses\":[{\"dateSeen\":[\"2022-01-17T07:35:00.000Z\"],\"type\":\"Off Market\"},{\"dateSeen\":[\"2019-11-25T13:18:00.000Z\"],\"isUnderContract\":\"false\",\"type\":\"Off Market\"},{\"date\":\"2022-04-28T00:00:00.000Z\",\"dateSeen\":[\"2022-04-28T05:12:00.000Z\"],\"firstDateSeen\":\"2022-04-28T00:00:00.000Z\",\"lastDateSeen\":\"2022-04-28T00:00:00.000Z\",\"type\":\"Off Market\"},{\"date\":\"2022-04-30T00:00:00.000Z\",\"dateSeen\":[\"2022-04-30T15:55:00.000Z\"],\"firstDateSeen\":\"2022-04-28T00:00:00.000Z\",\"lastDateSeen\":\"2022-04-30T00:00:00.000Z\",\"type\":\"Off Market\"}],\"yearBuilt\":1999,\"id\":\"dH2LwnUBzBVh0wsv2hFF\"}]}'\n"
     ]
    }
   ],
   "source": [
    "# Set API parameters\n",
    "format = 'JSON'\n",
    "query = 'country:US'\n",
    "num_records = 1\n",
    "download = False\n",
    "\n",
    "request_headers = {\n",
    "    'Authorization': 'Bearer ' + API_token,\n",
    "    'Content-Type': 'application/json',\n",
    "}\n",
    "request_data = {\n",
    "    'query': query,\n",
    "    'format': format,\n",
    "    'num_records': num_records,\n",
    "    'download': download\n",
    "}\n",
    "\n",
    "# Make the API call.\n",
    "r = requests.post('https://api.datafiniti.co/v4/properties/search',json=request_data,headers=request_headers);\n",
    "\n",
    "# Do something with the response.\n",
    "if r.status_code == 200:\n",
    "    print(r.content)\n",
    "else:\n",
    "    print('Request failed')"
   ]
  },
  {
   "cell_type": "code",
   "execution_count": null,
   "metadata": {},
   "outputs": [],
   "source": []
  }
 ],
 "metadata": {
  "interpreter": {
   "hash": "669b573305b8649553c2d8df7ddfe8affd0f6bb88032e92d7cb775163d9e1f2e"
  },
  "kernelspec": {
   "display_name": "Python 3.9.7 ('PythonData')",
   "language": "python",
   "name": "python3"
  },
  "language_info": {
   "codemirror_mode": {
    "name": "ipython",
    "version": 3
   },
   "file_extension": ".py",
   "mimetype": "text/x-python",
   "name": "python",
   "nbconvert_exporter": "python",
   "pygments_lexer": "ipython3",
   "version": "3.9.7"
  },
  "orig_nbformat": 4
 },
 "nbformat": 4,
 "nbformat_minor": 2
}
