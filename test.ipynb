{
 "cells": [
  {
   "cell_type": "code",
   "execution_count": null,
   "metadata": {},
   "outputs": [],
   "source": [
    "from sklearn.model_selection import train_test_split"
   ]
  }
 ],
 "metadata": {
  "interpreter": {
   "hash": "669b573305b8649553c2d8df7ddfe8affd0f6bb88032e92d7cb775163d9e1f2e"
  },
  "kernelspec": {
   "display_name": "Python 3.9.7 ('PythonData')",
   "language": "python",
   "name": "python3"
  },
  "language_info": {
   "name": "python",
   "version": "3.7.11"
  },
  "orig_nbformat": 4
 },
 "nbformat": 4,
 "nbformat_minor": 2
}
